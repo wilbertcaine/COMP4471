{
 "cells": [
  {
   "cell_type": "code",
   "execution_count": 4,
   "id": "b3e7c4ed",
   "metadata": {},
   "outputs": [
    {
     "name": "stdout",
     "output_type": "stream",
     "text": [
      "running build_ext\n",
      "building 'im2col_cython' extension\n",
      "creating build\\temp.win-amd64-3.8\n",
      "creating build\\temp.win-amd64-3.8\\Release\n",
      "C:\\Program Files (x86)\\Microsoft Visual Studio\\2019\\Community\\VC\\Tools\\MSVC\\14.26.28801\\bin\\HostX86\\x64\\cl.exe /c /nologo /Ox /W3 /GL /DNDEBUG /MD -IC:\\ProgramData\\Anaconda3\\lib\\site-packages\\numpy\\core\\include -IC:\\ProgramData\\Anaconda3\\include -IC:\\ProgramData\\Anaconda3\\include \"-IC:\\Program Files (x86)\\Microsoft Visual Studio\\2019\\Community\\VC\\Tools\\MSVC\\14.26.28801\\ATLMFC\\include\" \"-IC:\\Program Files (x86)\\Microsoft Visual Studio\\2019\\Community\\VC\\Tools\\MSVC\\14.26.28801\\include\" \"-IC:\\Program Files (x86)\\Windows Kits\\NETFXSDK\\4.8\\include\\um\" \"-IC:\\Program Files (x86)\\Windows Kits\\10\\include\\10.0.18362.0\\ucrt\" \"-IC:\\Program Files (x86)\\Windows Kits\\10\\include\\10.0.18362.0\\shared\" \"-IC:\\Program Files (x86)\\Windows Kits\\10\\include\\10.0.18362.0\\um\" \"-IC:\\Program Files (x86)\\Windows Kits\\10\\include\\10.0.18362.0\\winrt\" \"-IC:\\Program Files (x86)\\Windows Kits\\10\\include\\10.0.18362.0\\cppwinrt\" /Tcim2col_cython.c /Fobuild\\temp.win-amd64-3.8\\Release\\im2col_cython.obj\n",
      "im2col_cython.c\n",
      "C:\\ProgramData\\Anaconda3\\lib\\site-packages\\numpy\\core\\include\\numpy\\npy_1_7_deprecated_api.h(14) : Warning Msg: Using deprecated NumPy API, disable it with #define NPY_NO_DEPRECATED_API NPY_1_7_API_VERSION\n",
      "im2col_cython.c(3043): warning C4244: '=': conversion from 'long' to 'char', possible loss of data\n",
      "im2col_cython.c(3453): warning C4244: '=': conversion from 'npy_intp' to 'int', possible loss of data\n",
      "im2col_cython.c(3462): warning C4244: '=': conversion from 'npy_intp' to 'int', possible loss of data\n",
      "im2col_cython.c(3471): warning C4244: '=': conversion from 'npy_intp' to 'int', possible loss of data\n",
      "im2col_cython.c(3480): warning C4244: '=': conversion from 'npy_intp' to 'int', possible loss of data\n",
      "im2col_cython.c(3943): warning C4244: '=': conversion from 'npy_intp' to 'int', possible loss of data\n",
      "im2col_cython.c(3952): warning C4244: '=': conversion from 'npy_intp' to 'int', possible loss of data\n",
      "im2col_cython.c(3961): warning C4244: '=': conversion from 'npy_intp' to 'int', possible loss of data\n",
      "im2col_cython.c(3970): warning C4244: '=': conversion from 'npy_intp' to 'int', possible loss of data\n",
      "im2col_cython.c(4990): warning C4244: '=': conversion from 'long' to 'char', possible loss of data\n",
      "im2col_cython.c(7305): warning C4244: '=': conversion from 'long' to 'char', possible loss of data\n",
      "C:\\Program Files (x86)\\Microsoft Visual Studio\\2019\\Community\\VC\\Tools\\MSVC\\14.26.28801\\bin\\HostX86\\x64\\link.exe /nologo /INCREMENTAL:NO /LTCG /DLL /MANIFEST:EMBED,ID=2 /MANIFESTUAC:NO /LIBPATH:C:\\ProgramData\\Anaconda3\\libs /LIBPATH:C:\\ProgramData\\Anaconda3\\PCbuild\\amd64 \"/LIBPATH:C:\\Program Files (x86)\\Microsoft Visual Studio\\2019\\Community\\VC\\Tools\\MSVC\\14.26.28801\\ATLMFC\\lib\\x64\" \"/LIBPATH:C:\\Program Files (x86)\\Microsoft Visual Studio\\2019\\Community\\VC\\Tools\\MSVC\\14.26.28801\\lib\\x64\" \"/LIBPATH:C:\\Program Files (x86)\\Windows Kits\\NETFXSDK\\4.8\\lib\\um\\x64\" \"/LIBPATH:C:\\Program Files (x86)\\Windows Kits\\10\\lib\\10.0.18362.0\\ucrt\\x64\" \"/LIBPATH:C:\\Program Files (x86)\\Windows Kits\\10\\lib\\10.0.18362.0\\um\\x64\" /EXPORT:PyInit_im2col_cython build\\temp.win-amd64-3.8\\Release\\im2col_cython.obj /OUT:P:\\Documents\\GitHub\\COMP4471\\assignment2\\cs231n\\im2col_cython.cp38-win_amd64.pyd /IMPLIB:build\\temp.win-amd64-3.8\\Release\\im2col_cython.cp38-win_amd64.lib\n",
      "   Creating library build\\temp.win-amd64-3.8\\Release\\im2col_cython.cp38-win_amd64.lib and object build\\temp.win-amd64-3.8\\Release\\im2col_cython.cp38-win_amd64.exp\n",
      "Generating code\n",
      "Finished generating code\n"
     ]
    }
   ],
   "source": [
    "!python setup.py build_ext --inplace"
   ]
  },
  {
   "cell_type": "code",
   "execution_count": null,
   "id": "0f8555c5",
   "metadata": {},
   "outputs": [],
   "source": []
  }
 ],
 "metadata": {
  "kernelspec": {
   "display_name": "Python 3",
   "language": "python",
   "name": "python3"
  },
  "language_info": {
   "codemirror_mode": {
    "name": "ipython",
    "version": 3
   },
   "file_extension": ".py",
   "mimetype": "text/x-python",
   "name": "python",
   "nbconvert_exporter": "python",
   "pygments_lexer": "ipython3",
   "version": "3.8.8"
  }
 },
 "nbformat": 4,
 "nbformat_minor": 5
}
