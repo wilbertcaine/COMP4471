{
 "cells": [
  {
   "cell_type": "code",
   "execution_count": 1,
   "id": "0075b6c3",
   "metadata": {},
   "outputs": [
    {
     "name": "stdout",
     "output_type": "stream",
     "text": [
      "Downloading: cifar-10-python.tar.gz Bytes: 170498071\n",
      "Extracting: cifar-10-python.tar.gz\n"
     ]
    }
   ],
   "source": [
    "from __future__ import print_function\n",
    "from six.moves.urllib import request\n",
    "import tarfile  \n",
    "import os\n",
    "\n",
    "url = \"https://www.cs.toronto.edu/~kriz/cifar-10-python.tar.gz\"\n",
    "\n",
    "file_name = url.split('/')[-1]\n",
    "u = request.urlopen(url)\n",
    "f = open(file_name, 'wb')\n",
    "meta = u.info()\n",
    "file_size = int(meta.get(\"Content-Length\"))\n",
    "print(\"Downloading: %s Bytes: %s\" % (file_name, file_size))\n",
    "\n",
    "file_size_dl = 0\n",
    "block_sz = 1048576\n",
    "while True:\n",
    "    buffer = u.read(block_sz)\n",
    "    if not buffer:\n",
    "        break\n",
    "\n",
    "    file_size_dl += len(buffer)\n",
    "    f.write(buffer)\n",
    "    status = \"%d  [%3.2f%%]\\r\" % (file_size_dl, file_size_dl * 100. / file_size)\n",
    "#    status = status + chr(8)*(len(status)+1)\n",
    "    print(status,end='')\n",
    "\n",
    "f.close()\n",
    "\n",
    "print('Extracting: %s' % file_name)\n",
    "t = tarfile.open(file_name, \"r:*\")  \n",
    "t.extractall(path = '.')  \n",
    "t.close()  \n",
    "\n",
    "os.remove(file_name)"
   ]
  },
  {
   "cell_type": "code",
   "execution_count": 11,
   "id": "9075367a",
   "metadata": {},
   "outputs": [
    {
     "data": {
      "text/plain": [
       "array([[3, 5],\n",
       "       [7, 9]])"
      ]
     },
     "execution_count": 11,
     "metadata": {},
     "output_type": "execute_result"
    }
   ],
   "source": [
    "import numpy as np\n",
    "a=np.array([[[1,2],[2,3]],[[3,4],[4,5]]])\n",
    "np.sum(a,axis=1)"
   ]
  },
  {
   "cell_type": "code",
   "execution_count": 13,
   "id": "15d5ecfa",
   "metadata": {},
   "outputs": [
    {
     "data": {
      "text/plain": [
       "[1, 2, 3]"
      ]
     },
     "execution_count": 13,
     "metadata": {},
     "output_type": "execute_result"
    }
   ],
   "source": [
    "[1,2,3,4][:3]"
   ]
  },
  {
   "cell_type": "code",
   "execution_count": null,
   "id": "5d7c3633",
   "metadata": {},
   "outputs": [],
   "source": []
  }
 ],
 "metadata": {
  "kernelspec": {
   "display_name": "Python 3",
   "language": "python",
   "name": "python3"
  },
  "language_info": {
   "codemirror_mode": {
    "name": "ipython",
    "version": 3
   },
   "file_extension": ".py",
   "mimetype": "text/x-python",
   "name": "python",
   "nbconvert_exporter": "python",
   "pygments_lexer": "ipython3",
   "version": "3.8.8"
  }
 },
 "nbformat": 4,
 "nbformat_minor": 5
}
